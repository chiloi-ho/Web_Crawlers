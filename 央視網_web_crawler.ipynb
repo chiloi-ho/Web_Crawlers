{
 "cells": [
  {
   "cell_type": "code",
   "execution_count": 1,
   "id": "99cf2f9e",
   "metadata": {},
   "outputs": [],
   "source": [
    "from selenium import webdriver\n",
    "import requests\n",
    "from bs4 import BeautifulSoup\n",
    "import pandas as pd"
   ]
  },
  {
   "cell_type": "code",
   "execution_count": 2,
   "id": "d46c96f6",
   "metadata": {},
   "outputs": [
    {
     "name": "stdout",
     "output_type": "stream",
     "text": [
      "300\n",
      "300\n"
     ]
    }
   ],
   "source": [
    "# modify first two lines\n",
    "\n",
    "page_num = 30\n",
    "url_prefix = \"https://search.cctv.com/search.php?qtext=%E9%87%8F%E5%8C%96%E4%BA%A4%E6%98%93&sort=relevance&type=web&vtime=&datepid=1&channel=&page=\"\n",
    "DRIVER_PATH = '/Users/hcl/Downloads/chromedriver'\n",
    "driver = webdriver.Chrome(executable_path=DRIVER_PATH)\n",
    "url_list = []\n",
    "title_list = []\n",
    "\n",
    "for n in range(1,page_num + 1):\n",
    "    url = url_prefix + str(n)\n",
    "    driver.get(url)\n",
    "    lanmu = driver.find_elements_by_xpath(\"//*[contains(@lanmu1,'http')]\")\n",
    "    titles = driver.find_elements_by_xpath(\"//*[contains(@id, 'web_content_')]\")\n",
    "\n",
    "    for n in lanmu:\n",
    "        news_url = n.get_attribute('lanmu1')\n",
    "        url_list.append(news_url)\n",
    "        \n",
    "    for title in titles:\n",
    "        title_list.append(title.text)\n",
    "        \n",
    "        \n",
    "print(len(url_list))\n",
    "print(len(title_list))"
   ]
  },
  {
   "cell_type": "code",
   "execution_count": 24,
   "id": "59efbbaa",
   "metadata": {},
   "outputs": [
    {
     "name": "stdout",
     "output_type": "stream",
     "text": [
      "News 10 is done!\n",
      "News 20 is done!\n",
      "News 30 is done!\n",
      "News 40 is done!\n",
      "News 50 is done!\n",
      "News 60 is done!\n",
      "News 70 is done!\n",
      "News 80 is done!\n",
      "News 90 is done!\n",
      "News 100 is done!\n",
      "News 110 is done!\n",
      "News 120 is done!\n",
      "News 130 is done!\n",
      "News 140 is done!\n",
      "News 150 is done!\n",
      "News 160 is done!\n",
      "News 170 is done!\n",
      "News 180 is done!\n",
      "News 190 is done!\n",
      "News 200 is done!\n",
      "News 210 is done!\n",
      "News 220 is done!\n",
      "News 230 is done!\n",
      "News 240 is done!\n",
      "News 250 is done!\n",
      "News 260 is done!\n",
      "News 270 is done!\n",
      "News 280 is done!\n",
      "News 290 is done!\n",
      "News 300 is done!\n",
      "---------------ALL DONE---------------\n"
     ]
    }
   ],
   "source": [
    "import chardet\n",
    "import cchardet\n",
    "\n",
    "content_list = []\n",
    "count = 1\n",
    "\n",
    "for url in url_list:\n",
    "    res = requests.get(url)\n",
    "    #code = chardet.detect(res.content)\n",
    "    code = res.apparent_encoding\n",
    "    res.encoding = code\n",
    "    soup = BeautifulSoup(res.text, 'html.parser')\n",
    "    \n",
    "    news_contents = \"\"\n",
    "    if \"tv.cctv.com\" in url:\n",
    "        content = soup.find(\"meta\", attrs={\"name\": \"description\"})\n",
    "        content = content.get('content')\n",
    "        content_list.append(content)\n",
    "    else:\n",
    "        contents = soup.find_all('div', attrs={\"class\":\"body\"})\n",
    "        for content in contents:\n",
    "            news_contents = news_contents + content.text\n",
    "            news_contents = news_contents.replace(\"\\u3000\", \"\")\n",
    "        content_list.append(news_contents)\n",
    "    \n",
    "    if count%10 == 0:\n",
    "        print(\"News \" + str(count) + \" is done!\")\n",
    "        \n",
    "    count += 1\n",
    "    \n",
    "print(\"---------------ALL DONE---------------\")"
   ]
  },
  {
   "cell_type": "code",
   "execution_count": 25,
   "id": "003a47ab",
   "metadata": {},
   "outputs": [
    {
     "data": {
      "text/plain": [
       "300"
      ]
     },
     "execution_count": 25,
     "metadata": {},
     "output_type": "execute_result"
    }
   ],
   "source": [
    "# check content\n",
    "len(content_list)"
   ]
  },
  {
   "cell_type": "code",
   "execution_count": 26,
   "id": "b71fa61a",
   "metadata": {},
   "outputs": [
    {
     "data": {
      "text/html": [
       "<div>\n",
       "<style scoped>\n",
       "    .dataframe tbody tr th:only-of-type {\n",
       "        vertical-align: middle;\n",
       "    }\n",
       "\n",
       "    .dataframe tbody tr th {\n",
       "        vertical-align: top;\n",
       "    }\n",
       "\n",
       "    .dataframe thead th {\n",
       "        text-align: right;\n",
       "    }\n",
       "</style>\n",
       "<table border=\"1\" class=\"dataframe\">\n",
       "  <thead>\n",
       "    <tr style=\"text-align: right;\">\n",
       "      <th></th>\n",
       "      <th>title</th>\n",
       "      <th>content</th>\n",
       "      <th>url</th>\n",
       "    </tr>\n",
       "  </thead>\n",
       "  <tbody>\n",
       "    <tr>\n",
       "      <th>0</th>\n",
       "      <td>光大证券事件引担忧 国债期货面临量化交易考验</td>\n",
       "      <td></td>\n",
       "      <td>http://jingji.cntv.cn/2013/08/23/ARTI137721657...</td>\n",
       "    </tr>\n",
       "    <tr>\n",
       "      <th>1</th>\n",
       "      <td>光大证券乌龙事件折射“量化交易”风险</td>\n",
       "      <td>\\n中广网北京8月21日消息（记者王浩）巨量资金、量化交易、套利系统，把这些词语叠加在一起，...</td>\n",
       "      <td>http://jingji.cntv.cn/2013/08/21/ARTI137707145...</td>\n",
       "    </tr>\n",
       "    <tr>\n",
       "      <th>2</th>\n",
       "      <td>李剑峰：光大事件折射高频量化交易风险隐患</td>\n",
       "      <td></td>\n",
       "      <td>http://jingji.cntv.cn/2013/08/22/ARTI137712748...</td>\n",
       "    </tr>\n",
       "    <tr>\n",
       "      <th>3</th>\n",
       "      <td>深交所抑制炒新又出新举措 量化异常交易行为</td>\n",
       "      <td>\\n日前，深圳证券交易所正式发布了《深圳证券交易所新股上市初期异常交易行为监控指引》（以下简...</td>\n",
       "      <td>http://jingji.cntv.cn/2012/06/13/ARTI133954316...</td>\n",
       "    </tr>\n",
       "    <tr>\n",
       "      <th>4</th>\n",
       "      <td>这种投资方式，有大“钱”景？超8成都赚了！证监会紧急提醒</td>\n",
       "      <td></td>\n",
       "      <td>https://finance.cctv.com/2021/09/16/ARTInqcrFG...</td>\n",
       "    </tr>\n",
       "  </tbody>\n",
       "</table>\n",
       "</div>"
      ],
      "text/plain": [
       "                          title  \\\n",
       "0        光大证券事件引担忧 国债期货面临量化交易考验   \n",
       "1            光大证券乌龙事件折射“量化交易”风险   \n",
       "2          李剑峰：光大事件折射高频量化交易风险隐患   \n",
       "3         深交所抑制炒新又出新举措 量化异常交易行为   \n",
       "4  这种投资方式，有大“钱”景？超8成都赚了！证监会紧急提醒   \n",
       "\n",
       "                                             content  \\\n",
       "0                                                      \n",
       "1  \\n中广网北京8月21日消息（记者王浩）巨量资金、量化交易、套利系统，把这些词语叠加在一起，...   \n",
       "2                                                      \n",
       "3  \\n日前，深圳证券交易所正式发布了《深圳证券交易所新股上市初期异常交易行为监控指引》（以下简...   \n",
       "4                                                      \n",
       "\n",
       "                                                 url  \n",
       "0  http://jingji.cntv.cn/2013/08/23/ARTI137721657...  \n",
       "1  http://jingji.cntv.cn/2013/08/21/ARTI137707145...  \n",
       "2  http://jingji.cntv.cn/2013/08/22/ARTI137712748...  \n",
       "3  http://jingji.cntv.cn/2012/06/13/ARTI133954316...  \n",
       "4  https://finance.cctv.com/2021/09/16/ARTInqcrFG...  "
      ]
     },
     "execution_count": 26,
     "metadata": {},
     "output_type": "execute_result"
    }
   ],
   "source": [
    "df = pd.DataFrame(list(zip(title_list, content_list, url_list)), columns =['title', 'content', 'url'])\n",
    "df = df.drop_duplicates(subset=['title'])\n",
    "df.head()"
   ]
  },
  {
   "cell_type": "code",
   "execution_count": 27,
   "id": "87d63afe",
   "metadata": {},
   "outputs": [
    {
     "data": {
      "text/plain": [
       "23"
      ]
     },
     "execution_count": 27,
     "metadata": {},
     "output_type": "execute_result"
    }
   ],
   "source": [
    "df = df[df['content'].str.contains(\"量化交易\", regex=False, na=False)]\n",
    "len(df)"
   ]
  },
  {
   "cell_type": "code",
   "execution_count": 28,
   "id": "3fa99a87",
   "metadata": {},
   "outputs": [
    {
     "data": {
      "text/html": [
       "<div>\n",
       "<style scoped>\n",
       "    .dataframe tbody tr th:only-of-type {\n",
       "        vertical-align: middle;\n",
       "    }\n",
       "\n",
       "    .dataframe tbody tr th {\n",
       "        vertical-align: top;\n",
       "    }\n",
       "\n",
       "    .dataframe thead th {\n",
       "        text-align: right;\n",
       "    }\n",
       "</style>\n",
       "<table border=\"1\" class=\"dataframe\">\n",
       "  <thead>\n",
       "    <tr style=\"text-align: right;\">\n",
       "      <th></th>\n",
       "      <th>title</th>\n",
       "      <th>content</th>\n",
       "      <th>url</th>\n",
       "    </tr>\n",
       "  </thead>\n",
       "  <tbody>\n",
       "    <tr>\n",
       "      <th>1</th>\n",
       "      <td>光大证券乌龙事件折射“量化交易”风险</td>\n",
       "      <td>\\n中广网北京8月21日消息（记者王浩）巨量资金、量化交易、套利系统，把这些词语叠加在一起，...</td>\n",
       "      <td>http://jingji.cntv.cn/2013/08/21/ARTI137707145...</td>\n",
       "    </tr>\n",
       "    <tr>\n",
       "      <th>50</th>\n",
       "      <td>《富可敌国》：迟迟不来的对冲</td>\n",
       "      <td>\\n《富可敌国》呈现的是美国对冲基金史上一系列神秘人物和故事\\n高谈\\n[ 在成熟市场上，对...</td>\n",
       "      <td>http://jingji.cntv.cn/2012/05/15/ARTI133706372...</td>\n",
       "    </tr>\n",
       "    <tr>\n",
       "      <th>54</th>\n",
       "      <td>光大证券公告称“8·16”事件致当日损失约1.94亿元</td>\n",
       "      <td>\\n光大证券公告称：“8·16”事件致当日损失约1.94亿元\\n可能面临监管部门警示或处罚\\...</td>\n",
       "      <td>http://jingji.cntv.cn/2013/08/18/ARTI137683231...</td>\n",
       "    </tr>\n",
       "    <tr>\n",
       "      <th>55</th>\n",
       "      <td>光大证券面临三重质疑</td>\n",
       "      <td>\\n\\n在光大证券“乌龙指”拉爆了A股之后，昨天晚间，光大期货7000手股指空单也见诸市场。...</td>\n",
       "      <td>http://jingji.cntv.cn/2013/08/17/ARTI137669667...</td>\n",
       "    </tr>\n",
       "    <tr>\n",
       "      <th>56</th>\n",
       "      <td>光大证券称异常交易当日损失近2亿</td>\n",
       "      <td>\\n国际在线消息：据光大证券18日发布公告称，8月16日的交易异常主要是其策略投资部使用的套...</td>\n",
       "      <td>http://news.cntv.cn/2013/08/19/ARTI13768652638...</td>\n",
       "    </tr>\n",
       "  </tbody>\n",
       "</table>\n",
       "</div>"
      ],
      "text/plain": [
       "                          title  \\\n",
       "1            光大证券乌龙事件折射“量化交易”风险   \n",
       "50               《富可敌国》：迟迟不来的对冲   \n",
       "54  光大证券公告称“8·16”事件致当日损失约1.94亿元   \n",
       "55                   光大证券面临三重质疑   \n",
       "56             光大证券称异常交易当日损失近2亿   \n",
       "\n",
       "                                              content  \\\n",
       "1   \\n中广网北京8月21日消息（记者王浩）巨量资金、量化交易、套利系统，把这些词语叠加在一起，...   \n",
       "50  \\n《富可敌国》呈现的是美国对冲基金史上一系列神秘人物和故事\\n高谈\\n[ 在成熟市场上，对...   \n",
       "54  \\n光大证券公告称：“8·16”事件致当日损失约1.94亿元\\n可能面临监管部门警示或处罚\\...   \n",
       "55  \\n\\n在光大证券“乌龙指”拉爆了A股之后，昨天晚间，光大期货7000手股指空单也见诸市场。...   \n",
       "56  \\n国际在线消息：据光大证券18日发布公告称，8月16日的交易异常主要是其策略投资部使用的套...   \n",
       "\n",
       "                                                  url  \n",
       "1   http://jingji.cntv.cn/2013/08/21/ARTI137707145...  \n",
       "50  http://jingji.cntv.cn/2012/05/15/ARTI133706372...  \n",
       "54  http://jingji.cntv.cn/2013/08/18/ARTI137683231...  \n",
       "55  http://jingji.cntv.cn/2013/08/17/ARTI137669667...  \n",
       "56  http://news.cntv.cn/2013/08/19/ARTI13768652638...  "
      ]
     },
     "execution_count": 28,
     "metadata": {},
     "output_type": "execute_result"
    }
   ],
   "source": [
    "df.head()"
   ]
  },
  {
   "cell_type": "code",
   "execution_count": 14,
   "id": "603e2f1f",
   "metadata": {},
   "outputs": [],
   "source": [
    "# save df\n",
    "#df.to_csv(\"a.csv\")"
   ]
  },
  {
   "cell_type": "code",
   "execution_count": 9,
   "id": "d0b12cf4",
   "metadata": {},
   "outputs": [],
   "source": [
    "#df.to_excel(\"a.xlsx\")"
   ]
  },
  {
   "cell_type": "code",
   "execution_count": 10,
   "id": "dc1a01fb",
   "metadata": {},
   "outputs": [],
   "source": [
    "#df1 = pd.read_csv(\"/Users/hcl/test1/News_Data/data/a.csv\")"
   ]
  },
  {
   "cell_type": "code",
   "execution_count": 11,
   "id": "35b6bcd8",
   "metadata": {},
   "outputs": [],
   "source": [
    "#df.to_excel(\"a.xlsx\")"
   ]
  },
  {
   "cell_type": "code",
   "execution_count": 23,
   "id": "eb4593da",
   "metadata": {},
   "outputs": [
    {
     "data": {
      "text/plain": [
       "'\\n中广网北京8月21日消息（记者王浩）巨量资金、量化交易、套利系统，把这些词语叠加在一起，就构成了人们对金融从业者中交易员群体的一种印象，在影视剧中也能经常见到这样的场景，一群人等着布满血丝的眼睛盯着很多屏幕，不停地敲击键盘、打电话，而这背后，则是对巨量资金的调动。\\n在此次光大证券乌龙事件中，背后的操盘者就是这样一群人。他们在8月16日当天申报买入234亿元的股票，实际成交也高达72.7亿元。那么，在外界看来复杂神秘的金融交易系统背后，这场闹剧是如何爆发的？\\n光大证券对乌龙事件给出的说法是：它们使用的套利策略系统出现了问题，在高频交易时，对可用资金额度没有能进行有效校验控制，导致生成了预期外的订单。对这种说法，一位专门给券商开发交易系统的业内人士分析认为，存在这种可能性。\\n业内人士：如果风险控制完善的话，像我们设计系统，买股票是有一个冻结资金的环节，就是说你账上有多少钱就能买多少股票，比如你只有5000万，你不可能买1亿的股票，如果你能买200多亿的东西，那先得证明你有200多亿的钱。这里头可能会涉及到系统为了快，它把资金校验的环节去掉了，这个大家还在探讨，没有定论。有可能是利用了交易所给它提供的一个信任通道，因为像上交所现在交易结算还是采用T+1，像这个通道，当天理论上是无限量可以买股票，然后第二天只要能把钱补足就可以了。\\n光大证券在写给证监会的自查报告中还声称：是因为将模拟系统接入了交易系统，才导致了此次乌龙事件。但业内人士表示，证监会对券商的办公、交易和测试网络之间的防火墙设置都有明确规定，光大证券如果真得发生了类似的错误，实属不应该。\\n业内人士：技术层面是可能的，但是从管理层面是不应该的，因为生产、办公、测试这几个网络之间理论上是不能互通的，这个很重要。\\n记者：测试系统和实际交易系统应该从物理上断绝开？\\n业内人士：不应该能通。拿一个测试程序去接到交易所那里头去报盘，这个技术上肯定是可行的，也做得到，但从管理的严谨性角度是过不去的。\\n“南美的一只蝴蝶煽动几下翅膀，就可能引发太平洋的一次海啸”，这是对蝴蝶效应最经典的一句描述。在上周五的光大证券乌龙事件中，证券市场中的“蝴蝶效应”也表现的很充分：由于光大证券一家的错误，引发了其他券商和投资者纷纷跟盘，导致A股一时间异动明显。\\n业内人士：市场指数波动比较严重时候，套利的机会越来越多地被打开，那盯盘的这些软件，只要看到有套利机会，它就会自动下单，会触发一大堆新的订单产生。\\n而触发此次“蝴蝶效应”的，就是这几年非常流行的“量化投资”。所谓量化投资，是指借助现代统计学和数学的方法，利用计算机技术分析数据，探索出规律和投资策略，然后制定出数量模型并严格执行，以求获得超额投资回报。\\n国内的“量化投资”团队目前多从美国、加拿大，以及我国台湾地区引进，对于这块的风险控制，一位证券公司从业者感叹：各家证券公司的后台风险控制部门，都在与前台一线操盘部门进行着赛跑式的博弈，因为后台往往跟不上前台的创新速度。\\n证券从业者：如果后台合规部门过多介入的话，可能会影响到交易的实时性和策略的执行，合规部门的业务能力都无法跟上，因为国内的创新速度还是比较快的，那最后，要么一切放开，由前台自己把握，大部分券商就是采用这样的方式，所以容易出问题。\\n'"
      ]
     },
     "execution_count": 23,
     "metadata": {},
     "output_type": "execute_result"
    }
   ],
   "source": [
    "# testing\n",
    "\n",
    "res = requests.get(\"http://jingji.cntv.cn/2013/08/21/ARTI1377071456120556.shtml\")\n",
    "#code = chardet.detect(res.content)\n",
    "code = res.apparent_encoding\n",
    "res.encoding = code\n",
    "soup = BeautifulSoup(res.text, 'html.parser')\n",
    "\n",
    "news_contents = \"\"\n",
    "contents = soup.find_all('div', attrs={\"class\":\"body\"})\n",
    "for content in contents:\n",
    "    news_contents = news_contents + content.text\n",
    "    news_contents = news_contents.replace(\"\\u3000\", \"\")\n",
    "\n",
    "news_contents"
   ]
  },
  {
   "cell_type": "code",
   "execution_count": null,
   "id": "10759321",
   "metadata": {},
   "outputs": [],
   "source": []
  }
 ],
 "metadata": {
  "kernelspec": {
   "display_name": "Python 3 (ipykernel)",
   "language": "python",
   "name": "python3"
  },
  "language_info": {
   "codemirror_mode": {
    "name": "ipython",
    "version": 3
   },
   "file_extension": ".py",
   "mimetype": "text/x-python",
   "name": "python",
   "nbconvert_exporter": "python",
   "pygments_lexer": "ipython3",
   "version": "3.9.5"
  }
 },
 "nbformat": 4,
 "nbformat_minor": 5
}
